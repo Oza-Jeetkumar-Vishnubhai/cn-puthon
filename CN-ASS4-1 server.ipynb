{
 "cells": [
  {
   "cell_type": "code",
   "execution_count": null,
   "id": "2df172af",
   "metadata": {},
   "outputs": [
    {
     "name": "stdout",
     "output_type": "stream",
     "text": [
      "The server is ready to receive. ......\n",
      "The server is ready to receive. ......\n"
     ]
    }
   ],
   "source": [
    "from socket import * \n",
    "serverSocket = socket(AF_INET, SOCK_STREAM) \n",
    "# Preparing a server \n",
    "serverHost = '0.0.0.0' \n",
    "serverPort = 4523 \n",
    "serverSocket.bind((serverHost, serverPort)) \n",
    "serverSocket.listen(1) \n",
    "\n",
    "while True: \n",
    "# Establishing connection \n",
    "    print('The server is ready to receive. ......') \n",
    "    connectionSocket, addr = serverSocket.accept() \n",
    "    try: \n",
    "        message = connectionSocket.recv(4096).decode() \n",
    "        filename = message.split()[1] \n",
    "        f = open(filename) \n",
    "        outputdata = f.readlines() \n",
    "        connectionSocket.send(\"HTTP/1.1 200 OK\\r\\nContent-Type: text/html\\r\\n\\r\\n\".encode()) \n",
    "\n",
    "        # Send the content of the file to the connection socket \n",
    "        for i in range(0, len(outputdata)): \n",
    "            connectionSocket.send(outputdata[i].encode()) \n",
    "        connectionSocket.send(\"\\r\\n\".encode()) \n",
    "        connectionSocket.close() \n",
    "            \n",
    "    except IOError: \n",
    "        # Send HTTP response code and message for file not found \n",
    "        connectionSocket.send(\"HTTP/1.1 404 Not Found\\r\\nContent\u0002Type: text/html\\r\\n\\r\\n\".encode()) \n",
    "        connectionSocket.send(\"<html>\\r\\n<head></head>\\r\\n<body>\\r\\n<h1>404 Not Found</h1>\\r\\n</body>\\r\\n</html>\\r\\n\".encode()) \n",
    "     # Close the client connection socket \n",
    "    connectionSocket.close() \n",
    "\n"
   ]
  },
  {
   "cell_type": "code",
   "execution_count": null,
   "id": "49e42ed9",
   "metadata": {},
   "outputs": [],
   "source": []
  }
 ],
 "metadata": {
  "kernelspec": {
   "display_name": "Python 3 (ipykernel)",
   "language": "python",
   "name": "python3"
  },
  "language_info": {
   "codemirror_mode": {
    "name": "ipython",
    "version": 3
   },
   "file_extension": ".py",
   "mimetype": "text/x-python",
   "name": "python",
   "nbconvert_exporter": "python",
   "pygments_lexer": "ipython3",
   "version": "3.10.1"
  }
 },
 "nbformat": 4,
 "nbformat_minor": 5
}
