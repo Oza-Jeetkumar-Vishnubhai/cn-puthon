{
 "cells": [
  {
   "cell_type": "code",
   "execution_count": null,
   "id": "6848ca7f",
   "metadata": {},
   "outputs": [
    {
     "name": "stdout",
     "output_type": "stream",
     "text": [
      "The server is ready to receive. ......\n",
      "The server is ready to receive. ......\n"
     ]
    }
   ],
   "source": [
    "import random \n",
    "from socket import * \n",
    "\n",
    "serverSocket = socket(AF_INET, SOCK_STREAM) \n",
    "serverHost = '0.0.0.0' \n",
    "serverPort = 1234 \n",
    "serverSocket.bind((serverHost, serverPort)) \n",
    "serverSocket.listen(1) \n",
    "\n",
    "while True: \n",
    "    print('The server is ready to receive. ......') \n",
    "    connectionSocket, addr = serverSocket.accept() \n",
    "    message = connectionSocket.recv(4096).decode() \n",
    "    connectionSocket.send(\"Message from server: Pong\".encode()) \n",
    "connectionSocket.close()"
   ]
  }
 ],
 "metadata": {
  "kernelspec": {
   "display_name": "Python 3 (ipykernel)",
   "language": "python",
   "name": "python3"
  },
  "language_info": {
   "codemirror_mode": {
    "name": "ipython",
    "version": 3
   },
   "file_extension": ".py",
   "mimetype": "text/x-python",
   "name": "python",
   "nbconvert_exporter": "python",
   "pygments_lexer": "ipython3",
   "version": "3.9.6"
  }
 },
 "nbformat": 4,
 "nbformat_minor": 5
}
