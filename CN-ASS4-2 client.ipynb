{
 "cells": [
  {
   "cell_type": "code",
   "execution_count": 1,
   "id": "341a7129",
   "metadata": {},
   "outputs": [
    {
     "name": "stdout",
     "output_type": "stream",
     "text": [
      "Enter message: GET 1.html HTTP/1.1\n",
      "Message from server: Pong\n",
      "Start time is 1667460665664.92212\n",
      "End time is 1667460665665.93970\n",
      "Round Trip Time: 1.01781ms\n"
     ]
    }
   ],
   "source": [
    "from socket import * \n",
    "from time import time, ctime \n",
    "\n",
    "serverName = '192.168.56.1' \n",
    "serverPort = 1234 \n",
    "clientSocket = socket(AF_INET, SOCK_STREAM) \n",
    "clientSocket.connect((serverName, serverPort)) \n",
    "\n",
    "msg = input('Enter message: ') \n",
    "startTime = time() \n",
    "\n",
    "clientSocket.send(msg.encode()) \n",
    "messageFromSever = clientSocket.recv(4096) \n",
    "endTime = time() \n",
    "print(messageFromSever.decode()) \n",
    "\n",
    "print(\"Start time is %.5f\\nEnd time is %.5f\" % ((startTime)*1000, (endTime)*1000)) \n",
    "print(\"Round Trip Time: %.5fms\" % ((endTime - startTime)*1000)) \n",
    "clientSocket.close()"
   ]
  }
 ],
 "metadata": {
  "kernelspec": {
   "display_name": "Python 3 (ipykernel)",
   "language": "python",
   "name": "python3"
  },
  "language_info": {
   "codemirror_mode": {
    "name": "ipython",
    "version": 3
   },
   "file_extension": ".py",
   "mimetype": "text/x-python",
   "name": "python",
   "nbconvert_exporter": "python",
   "pygments_lexer": "ipython3",
   "version": "3.9.6"
  }
 },
 "nbformat": 4,
 "nbformat_minor": 5
}
