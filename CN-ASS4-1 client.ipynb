{
 "cells": [
  {
   "cell_type": "code",
   "execution_count": 1,
   "id": "c968dc11",
   "metadata": {},
   "outputs": [
    {
     "name": "stdout",
     "output_type": "stream",
     "text": [
      "Enter HTTP request: GET 1.html HTTP/1.1\n",
      "HTTP/1.1 200 OK\n",
      "Content-Type: text/html\n",
      "\n",
      "\n",
      "<!DOCTYPE html>\n",
      "<html lang=\"en\">\n",
      "<head>\n",
      "    <meta charset=\"UTF-8\">\n",
      "    <meta http-equiv=\"X-UA-Compatible\" content=\"IE=edge\">\n",
      "    <meta name=\"viewport\" content=\"width=device-width, initial-scale=1.0\">\n",
      "    <title>Test Document</title>\n",
      "</head>\n",
      "<body>\n",
      "    <h1>This is a test Document </h1>\n",
      "</body>\n",
      "</html>\n",
      "\n"
     ]
    }
   ],
   "source": [
    "from socket import * \n",
    "import sys \n",
    "# Preparing a client socket \n",
    "serverName = 'localhost' \n",
    "serverPort = 4523 \n",
    "\n",
    "request=input('Enter HTTP request: ') \n",
    "clientSocket = socket(AF_INET, SOCK_STREAM) #TCP connection\n",
    "clientSocket.connect((serverName, serverPort)) \n",
    "\n",
    "clientSocket.send(request.encode()) \n",
    "returnFromSever = clientSocket.recv(4096) \n",
    "\n",
    "while(len(returnFromSever)>0): \n",
    "    print(returnFromSever.decode()) \n",
    "    returnFromSever = clientSocket.recv(4096) \n",
    "clientSocket.close() "
   ]
  },
  {
   "cell_type": "code",
   "execution_count": null,
   "id": "654776b6",
   "metadata": {},
   "outputs": [],
   "source": []
  }
 ],
 "metadata": {
  "kernelspec": {
   "display_name": "Python 3 (ipykernel)",
   "language": "python",
   "name": "python3"
  },
  "language_info": {
   "codemirror_mode": {
    "name": "ipython",
    "version": 3
   },
   "file_extension": ".py",
   "mimetype": "text/x-python",
   "name": "python",
   "nbconvert_exporter": "python",
   "pygments_lexer": "ipython3",
   "version": "3.10.1"
  }
 },
 "nbformat": 4,
 "nbformat_minor": 5
}
