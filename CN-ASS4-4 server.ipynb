{
 "cells": [
  {
   "cell_type": "code",
   "execution_count": null,
   "id": "2d35329c",
   "metadata": {},
   "outputs": [
    {
     "name": "stdout",
     "output_type": "stream",
     "text": [
      "The server is ready to receive. ......\n",
      "GET 1.html HTTP/1.1\n",
      "The server is ready to receive. ......\n",
      "GET 1.html HTTP/1.1\n",
      "The server is ready to receive. ......\n",
      "GET 2.html HTTP/1.1\n",
      "The server is ready to receive. ......\n",
      "GET 1.html HTTP/1.1\n",
      "The server is ready to receive. ......\n"
     ]
    }
   ],
   "source": [
    "from socket import * \n",
    "import sys\n",
    "\n",
    "# Create a server socket, bind it to a port and start listening \n",
    "serverSocket = socket(AF_INET, SOCK_STREAM) \n",
    "serverHost = '0.0.0.0'\n",
    "serverPort = 1235 \n",
    "serverSocket.bind((serverHost, serverPort))\n",
    "serverSocket.listen(1)\n",
    "while 1:\n",
    "    print('The server is ready to receive. ......')\n",
    "    connectionSocket, addr = serverSocket.accept() \n",
    "    message = connectionSocket.recv(4096).decode() \n",
    "    print(message)\n",
    "    \n",
    "    # Extract the filename from the given message \n",
    "    filename = message.split()[1]\n",
    "    fileExist = \"false\" \n",
    "    filetouse = filename \n",
    "    try:\n",
    "        # Check wether the file exist in the cache \n",
    "        f = open(filetouse[0:], \"r\")\n",
    "        outputdata = f.readlines() \n",
    "        fileExist = \"true\"\n",
    "        connectionSocket.send(\"Requested file found in cache\".encode())\n",
    "        # ProxyServer finds a cache hit and generates a response message \n",
    "        connectionSocket.send(\"HTTP/1.1 200 OK\\r\\nContent-Type: text/html\\r\\n\\r\\n\".encode()) \n",
    "        connectionSocket.send('Read from cache\\n'.encode())\n",
    "        for i in range(0, len(outputdata)): \n",
    "            connectionSocket.send(outputdata[i].encode()) \n",
    "            # Error handling for file not found in cache\n",
    "    except IOError:\n",
    "        if fileExist == \"false\":\n",
    "            connectionSocket.send(\"Requested file NOT found in cache, perform GET to server for file\\n\".encode())\n",
    "            # Create a socket on the proxyserver\n",
    "            c = socket(AF_INET, SOCK_STREAM) \n",
    "            hostn = \"http://\" + filetouse[0:] \n",
    "            connectionSocket.send(hostn.encode()) \n",
    "            try:\n",
    "                # Connect to the socket to port 80 \n",
    "                c.connect((hostn, 80))\n",
    "                # Create a temporary file on this socket and ask port 80 for the file requested by the client the cache\n",
    "                fileobj = c.makefile('r', 0)\n",
    "                fileobj.write(\"GET \" + filename + \" HTTP/1.1\\n\\n\") \n",
    "                # Read the response into buffer\n",
    "                buff = fileobj.readlines()\n",
    "                # Create a new file in the cache for the requested file.\n",
    "                # Also send the response in the buffer to client socket and the corresponding file in \n",
    "                tmpFile = open(\"./\" + filename,\"wb\")\n",
    "                for line in buff: \n",
    "                    tmpFile.write(line);\n",
    "                    connectionSocket.send(line.encode()); \n",
    "            except:\n",
    "                connectionSocket.send(\"Illegal request\".encode())\n",
    "        else:\n",
    "            # HTTP response message for file not found \n",
    "            connectionSocket.send(\"HTTP/1.1 404 Not Found\\r\\nContent-Type: text/html\\r\\n\\r\\n\".encode())\n",
    "    # Close the client and the server sockets \n",
    "connectionSocket.close()"
   ]
  }
 ],
 "metadata": {
  "kernelspec": {
   "display_name": "Python 3 (ipykernel)",
   "language": "python",
   "name": "python3"
  },
  "language_info": {
   "codemirror_mode": {
    "name": "ipython",
    "version": 3
   },
   "file_extension": ".py",
   "mimetype": "text/x-python",
   "name": "python",
   "nbconvert_exporter": "python",
   "pygments_lexer": "ipython3",
   "version": "3.10.1"
  }
 },
 "nbformat": 4,
 "nbformat_minor": 5
}
